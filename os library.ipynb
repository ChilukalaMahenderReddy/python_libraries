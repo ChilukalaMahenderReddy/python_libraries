{
 "cells": [
  {
   "cell_type": "code",
   "execution_count": null,
   "id": "e6d86db5",
   "metadata": {},
   "outputs": [],
   "source": [
    "import os"
   ]
  },
  {
   "cell_type": "code",
   "execution_count": 2,
   "id": "e294a415",
   "metadata": {},
   "outputs": [
    {
     "name": "stdout",
     "output_type": "stream",
     "text": [
      "C:\\Users\\mahen\\Desktop\\Untitled Folder\n"
     ]
    }
   ],
   "source": [
    "#os.getcwd() to know current working directory \n",
    "print(os.getcwd())"
   ]
  },
  {
   "cell_type": "code",
   "execution_count": 3,
   "id": "da542051",
   "metadata": {},
   "outputs": [
    {
     "name": "stdout",
     "output_type": "stream",
     "text": [
      "None\n"
     ]
    }
   ],
   "source": [
    "#chnaging directory to the parent directory\n",
    "print(os.chdir('../'))"
   ]
  },
  {
   "cell_type": "code",
   "execution_count": 4,
   "id": "274478dc",
   "metadata": {},
   "outputs": [
    {
     "data": {
      "text/plain": [
       "'C:\\\\Users\\\\mahen\\\\Desktop'"
      ]
     },
     "execution_count": 4,
     "metadata": {},
     "output_type": "execute_result"
    }
   ],
   "source": [
    "os.getcwd()"
   ]
  },
  {
   "cell_type": "code",
   "execution_count": 6,
   "id": "bf0dc129",
   "metadata": {},
   "outputs": [],
   "source": [
    "#crating the new directory\n",
    "os.mkdir('Mahender')"
   ]
  },
  {
   "cell_type": "code",
   "execution_count": 7,
   "id": "1b8cf137",
   "metadata": {},
   "outputs": [],
   "source": [
    "os.chdir('mahender')"
   ]
  },
  {
   "cell_type": "code",
   "execution_count": 8,
   "id": "f508e628",
   "metadata": {},
   "outputs": [
    {
     "data": {
      "text/plain": [
       "'C:\\\\Users\\\\mahen\\\\Desktop\\\\mahender'"
      ]
     },
     "execution_count": 8,
     "metadata": {},
     "output_type": "execute_result"
    }
   ],
   "source": [
    "os.getcwd()"
   ]
  },
  {
   "cell_type": "code",
   "execution_count": 9,
   "id": "0164a8b7",
   "metadata": {},
   "outputs": [],
   "source": [
    "#creating the child directory\n",
    "os.mkdir('Mahender_child')"
   ]
  },
  {
   "cell_type": "code",
   "execution_count": 10,
   "id": "42b5f523",
   "metadata": {},
   "outputs": [
    {
     "data": {
      "text/plain": [
       "['Mahender_child']"
      ]
     },
     "execution_count": 10,
     "metadata": {},
     "output_type": "execute_result"
    }
   ],
   "source": [
    "os.listdir()"
   ]
  },
  {
   "cell_type": "code",
   "execution_count": 11,
   "id": "ce8ed745",
   "metadata": {},
   "outputs": [],
   "source": [
    "#removing a directory\n",
    "os.rmdir('Mahender_child')"
   ]
  },
  {
   "cell_type": "code",
   "execution_count": 12,
   "id": "b5c5e95a",
   "metadata": {},
   "outputs": [
    {
     "data": {
      "text/plain": [
       "[]"
      ]
     },
     "execution_count": 12,
     "metadata": {},
     "output_type": "execute_result"
    }
   ],
   "source": [
    "os.listdir()"
   ]
  },
  {
   "cell_type": "code",
   "execution_count": 13,
   "id": "55716623",
   "metadata": {},
   "outputs": [
    {
     "data": {
      "text/plain": [
       "'nt'"
      ]
     },
     "execution_count": 13,
     "metadata": {},
     "output_type": "execute_result"
    }
   ],
   "source": [
    "#to know the os name\n",
    "os.name"
   ]
  },
  {
   "cell_type": "code",
   "execution_count": 14,
   "id": "101c6649",
   "metadata": {},
   "outputs": [
    {
     "data": {
      "text/plain": [
       "'C:\\\\Users\\\\mahen\\\\Desktop\\\\mahender'"
      ]
     },
     "execution_count": 14,
     "metadata": {},
     "output_type": "execute_result"
    }
   ],
   "source": [
    "os.getcwd()"
   ]
  },
  {
   "cell_type": "code",
   "execution_count": 15,
   "id": "cb359efc",
   "metadata": {},
   "outputs": [
    {
     "data": {
      "text/plain": [
       "'C:\\\\Users\\\\mahen\\\\Desktop\\\\mahender\\\\file1.txt'"
      ]
     },
     "execution_count": 15,
     "metadata": {},
     "output_type": "execute_result"
    }
   ],
   "source": [
    "#aading a file to the directory\n",
    "#creating the new file\n",
    "file='file1.txt'\n",
    "location = 'C:\\\\Users\\\\mahen\\\\Desktop\\\\mahender'\n",
    "os.path.join(location,file)"
   ]
  },
  {
   "cell_type": "code",
   "execution_count": null,
   "id": "038dc50f",
   "metadata": {},
   "outputs": [],
   "source": []
  }
 ],
 "metadata": {
  "kernelspec": {
   "display_name": "Python 3",
   "language": "python",
   "name": "python3"
  },
  "language_info": {
   "codemirror_mode": {
    "name": "ipython",
    "version": 3
   },
   "file_extension": ".py",
   "mimetype": "text/x-python",
   "name": "python",
   "nbconvert_exporter": "python",
   "pygments_lexer": "ipython3",
   "version": "3.9.7"
  }
 },
 "nbformat": 4,
 "nbformat_minor": 5
}
