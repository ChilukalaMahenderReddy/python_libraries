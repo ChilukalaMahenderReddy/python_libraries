{
 "cells": [
  {
   "cell_type": "code",
   "execution_count": null,
   "id": "29cc38f2",
   "metadata": {},
   "outputs": [],
   "source": [
    "#there are multiplie functionalities are available in sklearn package,\n",
    "#these packages are used to for multiple operations like model selection, preprocessing, train test splitting\n",
    "#feature selection and feature extraction"
   ]
  },
  {
   "cell_type": "code",
   "execution_count": 4,
   "id": "f269bb10",
   "metadata": {},
   "outputs": [
    {
     "name": "stdout",
     "output_type": "stream",
     "text": [
      "[15, 17, 7, 5, 3, 6, 14, 10, 8, 18, 12, 4, 1, 16, 13]\n",
      "[11, 2, 9, 19]\n",
      "[15, 17, 7, 5, 3, 6, 14, 10, 8, 18, 12, 4, 1, 16, 13]\n",
      "[11, 2, 9, 19]\n"
     ]
    }
   ],
   "source": [
    "#sklearn.model_selection package is having different function to perform various operations\n",
    "\n",
    "from sklearn.model_selection import train_test_split\n",
    "\n",
    "#train_test_split is used to split the data into training and testing based on specied size\n",
    "#traing set is used to training the model\n",
    "#testing set is used to testing the model\n",
    "\n",
    "x=[1,2,3,4,5,6,7,8,9,10,11,12,13,14,15,16,17,18,19]\n",
    "y=[1,2,3,4,5,6,7,8,9,10,11,12,13,14,15,16,17,18,19]\n",
    "\n",
    "X_train,X_test,y_train,y_test=train_test_split(x,y,test_size=0.2,random_state=0)\n",
    "\n",
    "print(X_train)\n",
    "print(X_test)\n",
    "print(y_train)\n",
    "print(y_test)\n"
   ]
  },
  {
   "cell_type": "code",
   "execution_count": null,
   "id": "65a1a2d1",
   "metadata": {},
   "outputs": [],
   "source": []
  }
 ],
 "metadata": {
  "kernelspec": {
   "display_name": "Python 3 (ipykernel)",
   "language": "python",
   "name": "python3"
  },
  "language_info": {
   "codemirror_mode": {
    "name": "ipython",
    "version": 3
   },
   "file_extension": ".py",
   "mimetype": "text/x-python",
   "name": "python",
   "nbconvert_exporter": "python",
   "pygments_lexer": "ipython3",
   "version": "3.9.7"
  }
 },
 "nbformat": 4,
 "nbformat_minor": 5
}
